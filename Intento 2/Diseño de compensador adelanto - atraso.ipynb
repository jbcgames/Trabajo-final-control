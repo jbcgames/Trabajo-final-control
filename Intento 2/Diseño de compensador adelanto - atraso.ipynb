{
 "cells": [
  {
   "cell_type": "markdown",
   "id": "1ceb9e8b",
   "metadata": {},
   "source": [
    "# **Diseño de compensador adelanto - atraso**"
   ]
  },
  {
   "cell_type": "markdown",
   "id": "f61e0205",
   "metadata": {},
   "source": [
    "## 1. **Descripcion del sistema**"
   ]
  },
  {
   "cell_type": "markdown",
   "id": "a418d895",
   "metadata": {},
   "source": [
    "Sistema de segundo orden con la función de transferencia:\n",
    "$$ G(s) = \\frac{2.671 \\times 10^5}{s^2 + 13.07s + 130.5} $$\n",
    "Con parámetros:\n",
    "Ganancia: $ K = 2047.0508 $\n",
    "\n",
    "Frecuencia natural: $ \\omega_n = 11.4227 \\, \\text{rad/s} $ \n",
    "\n",
    "Coeficiente de amortiguamiento: $ \\zeta = 0.5723 $\n",
    "\n",
    "Esto corresponde a la forma estándar:\n",
    "$$ G(s) = \\frac{K \\omega_n^2}{s^2 + 2 \\zeta \\omega_n s + \\omega_n^2} $$"
   ]
  },
  {
   "cell_type": "markdown",
   "id": "1f88d2a7",
   "metadata": {},
   "source": [
    "## **2. Objetivos de Diseño**\n"
   ]
  },
  {
   "cell_type": "markdown",
   "id": "374127d2",
   "metadata": {},
   "source": [
    "**Aumentar el Margen de Fase a 50°:** Esta es una medida de estabilidad. Un margen de fase bajo significa que el sistema está cerca de volverse inestable (oscilar sin control). Aumentarlo a 50° lo hace mucho más robusto y seguro.\n",
    "\n",
    "**Reducir el Error en Estado Estacionario:** Esto se refiere a la precisión. Si le pides al sistema que llegue a una posición, el error es la diferencia entre dónde querías que llegara y dónde realmente se quedó. Reducir este error lo hace más preciso.\n",
    "\n",
    "Para lograr esto, se usará un diseño en dos partes:\n",
    "\n",
    "    1. Compensador de Adelanto: Para mejorar la estabilidad.\n",
    "\n",
    "    2. Compensador de Atraso: Para mejorar la precisión."
   ]
  },
  {
   "cell_type": "markdown",
   "id": "3d921250",
   "metadata": {},
   "source": [
    "## **3. Diseño de compensador en adelanto - atraso ($ K_c $, $ z_c $, $ p_c $, $ z_a $, $ p_a $)**"
   ]
  },
  {
   "cell_type": "markdown",
   "id": "01d517ba",
   "metadata": {},
   "source": [
    "### **Asunciones Clave en el Código**"
   ]
  },
  {
   "cell_type": "markdown",
   "id": "f1c282a7",
   "metadata": {},
   "source": [
    "1. **Los Objetivos de Diseño**\n",
    "\n",
    "    El código asume un margen de fase de 50° y un factor de mejora de error de 10.\n",
    "\n",
    "    Si el sistema requiere más estabilidad (ej. 60°) o mayor precisión (ej. un factor de 20), se debe cambiar estos valores al principio del código:"
   ]
  },
  {
   "cell_type": "code",
   "execution_count": 1,
   "id": "3591176d",
   "metadata": {},
   "outputs": [],
   "source": [
    "pm_deseado = 60      # Nuevo margen de fase\n",
    "mejora_error = 20     # Nuevo factor de mejora de error"
   ]
  },
  {
   "cell_type": "markdown",
   "id": "ea2878fa",
   "metadata": {},
   "source": [
    "2. **El Periodo de Muestreo (T)**\n",
    "\n",
    "    Se eligió un periodo de muestreo T = 0.01 segundos.\n",
    "\n",
    "    Para una correcta implementación, el muestreo debe ser lo suficientemente rápido. Una regla general es que la frecuencia de muestreo ($f_s = \\frac{1}{T}$) sea entre 10 y 20 veces más alta que la frecuencia de cruce final ($wc_{final}$)."
   ]
  },
  {
   "cell_type": "markdown",
   "id": "fda9dab0",
   "metadata": {},
   "source": [
    "3. **Calculo de la Ganancia $K_c$**\n",
    "\n",
    "    El objetivo principal del diseño de adelanto es lograr un margen de fase específico en una nueva frecuencia de cruce de ganancia (w_c,nueva). Por definición, en esta frecuencia, la magnitud (la ganancia) total del sistema compensado debe ser exactamente 1 (o, lo que es lo mismo, 0 decibelios (dB)).\n",
    "\n",
    "    El cálculo se hace en 3 pasos:\n",
    "\n",
    "    **3.1. Diseñar los Compensadores sin Ganancia:** Primero, diseñamos las partes de adelanto (C_lead) y atraso (C_lag) que se encargan de arreglar la fase y el error, respectivamente. En este punto, ignoramos la ganancia general.\n",
    "\n",
    "    **3.2 Medir el Desajuste de Ganancia:** El script calcula cuál es la ganancia del \"sistema original + compensador sin K_c\" justo en la frecuencia clave w_c,nueva.\n",
    "\n",
    "    Esta línea mide la magnitud (ganancia) total sin Kc en wc_nueva:\n",
    "\n",
    "    **mag_total_sin_kc, _, _ = ct.bode(G * C_sin_Kc, [wc_nueva], plot=False)**\n",
    "\n",
    "    Este valor mag_total_sin_kc casi nunca será 1. Será un número como 1.15, 0.8, etc. Este es el \"desajuste\" que debemos corregir.\n",
    "\n",
    "    **3.3 Calcular el Ajuste Perfecto:** K_c es simplemente el número que se necesita para corregir ese desajuste. Si la ganancia actual es mag_total_sin_kc, queremos que:\n",
    "\n",
    "    $$K_c \\times mag\\_ total\\_ sin\\_ K_c = 1$$\n",
    "\n",
    "    Despejando $K_c$, se obtiene la fórmula usada en el código:\n",
    "\n",
    "    $$K_c = \\frac{1}{mag\\_ total\\_ sin\\_ K_c}$$\n"
   ]
  },
  {
   "cell_type": "markdown",
   "id": "6135e633",
   "metadata": {},
   "source": [
    "### **Código de Automatización**"
   ]
  },
  {
   "cell_type": "code",
   "execution_count": 2,
   "id": "7e564679",
   "metadata": {},
   "outputs": [
    {
     "name": "stdout",
     "output_type": "stream",
     "text": [
      "Sistema Original G(s):\n",
      "<TransferFunction>: sys[0]\n",
      "Inputs (1): ['u[0]']\n",
      "Outputs (1): ['y[0]']\n",
      "\n",
      "\n",
      "      2.671e+05\n",
      "---------------------\n",
      "s^2 + 13.07 s + 130.5\n",
      "\n",
      "\n",
      "Margen de Fase Actual: 1.45° en la frecuencia 516.86 rad/s\n",
      "\n",
      "--- Resultados del Diseño ---\n",
      "Frecuencia de cruce objetivo: 901.48 rad/s\n",
      "Fase requerida: 53.55°\n",
      "\n",
      "Parámetros del Compensador Calculados:\n",
      "Kc = 9.1946\n",
      "zc (cero de adelanto) = 296.8202\n",
      "pc (polo de adelanto) = 2737.8931\n",
      "za (cero de atraso) = 90.1478\n",
      "pa (polo de atraso) = 9.0148\n",
      "\n",
      "Compensador Continuo Final C(s):\n"
     ]
    },
    {
     "name": "stderr",
     "output_type": "stream",
     "text": [
      "C:\\Users\\Miguel\\AppData\\Local\\Packages\\PythonSoftwareFoundation.Python.3.12_qbz5n2kfra8p0\\LocalCache\\local-packages\\Python312\\site-packages\\control\\freqplot.py:435: FutureWarning: bode_plot() return value of mag, phase, omega is deprecated; use frequency_response()\n",
      "  warnings.warn(\n"
     ]
    },
    {
     "ename": "NameError",
     "evalue": "name 'C_s' is not defined",
     "output_type": "error",
     "traceback": [
      "\u001b[31m---------------------------------------------------------------------------\u001b[39m",
      "\u001b[31mNameError\u001b[39m                                 Traceback (most recent call last)",
      "\u001b[36mCell\u001b[39m\u001b[36m \u001b[39m\u001b[32mIn[2]\u001b[39m\u001b[32m, line 99\u001b[39m\n\u001b[32m     96\u001b[39m \u001b[38;5;28mprint\u001b[39m(\u001b[33mf\u001b[39m\u001b[33m\"\u001b[39m\u001b[33mpa (polo de atraso) = \u001b[39m\u001b[38;5;132;01m{\u001b[39;00mpa\u001b[38;5;132;01m:\u001b[39;00m\u001b[33m.4f\u001b[39m\u001b[38;5;132;01m}\u001b[39;00m\u001b[33m\"\u001b[39m)\n\u001b[32m     98\u001b[39m \u001b[38;5;28mprint\u001b[39m(\u001b[33m\"\u001b[39m\u001b[38;5;130;01m\\n\u001b[39;00m\u001b[33mCompensador Continuo Final C(s):\u001b[39m\u001b[33m\"\u001b[39m)\n\u001b[32m---> \u001b[39m\u001b[32m99\u001b[39m \u001b[38;5;28mprint\u001b[39m(\u001b[43mC_s\u001b[49m)\n",
      "\u001b[31mNameError\u001b[39m: name 'C_s' is not defined"
     ]
    }
   ],
   "source": [
    "import numpy as np\n",
    "import control as ct\n",
    "import math\n",
    "import matplotlib.pyplot as plt\n",
    "\n",
    "# --- 1. Definición del Sistema y Objetivos ---\n",
    "\n",
    "# Función de transferencia del sistema original (la planta)\n",
    "num_g = [2.671e5]\n",
    "den_g = [1, 13.07, 130.5]\n",
    "G = ct.tf(num_g, den_g)\n",
    "\n",
    "# Objetivos de diseño\n",
    "pm_deseado = 50      # Margen de fase deseado en grados\n",
    "margen_seguridad = 5 # Margen de seguridad en grados\n",
    "mejora_error = 10     # Factor de mejora para el error estacionario (beta)\n",
    "T = 0.1             # Periodo de muestreo para la discretización\n",
    "\n",
    "print(\"Sistema Original G(s):\")\n",
    "print(G)\n",
    "\n",
    "# --- 2. Análisis del Sistema Original ---\n",
    "\n",
    "# Obtenemos el margen de ganancia y fase del sistema sin compensar\n",
    "gm, pm_actual, wg, wc_actual = ct.margin(G)\n",
    "print(f\"\\nMargen de Fase Actual: {pm_actual:.2f}° en la frecuencia {wc_actual:.2f} rad/s\")\n",
    "\n",
    "\n",
    "# --- 3. Diseño del Compensador de Adelanto (Lead) ---\n",
    "# Esta parte mejora la estabilidad (margen de fase).\n",
    "\n",
    "# Fase adicional requerida\n",
    "phi_m = pm_deseado - pm_actual + margen_seguridad\n",
    "phi_m_rad = math.radians(phi_m)\n",
    "\n",
    "# Calcular el parámetro 'alpha' para el compensador\n",
    "alpha = (1 - math.sin(phi_m_rad)) / (1 + math.sin(phi_m_rad))\n",
    "\n",
    "# El compensador de adelanto añade una ganancia. La nueva frecuencia de cruce (wc_nueva)\n",
    "# estará donde la magnitud del sistema original sea -10 * log10(1/alpha) dB.\n",
    "ganancia_lead_db = -10 * np.log10(1 / alpha)\n",
    "\n",
    "# Encontramos la nueva frecuencia de cruce de ganancia\n",
    "# Se crea un vector de frecuencias para buscar\n",
    "frecuencias = np.logspace(0, 3, 1000)\n",
    "mag_g, _, _ = ct.bode(G, frecuencias, plot=False)\n",
    "mag_g_db = 20 * np.log10(mag_g)\n",
    "\n",
    "# Buscamos la frecuencia donde la magnitud coincide con la ganancia necesaria\n",
    "idx = np.argmin(np.abs(mag_g_db - ganancia_lead_db))\n",
    "wc_nueva = frecuencias[idx]\n",
    "\n",
    "# Calculamos el cero (zc) y el polo (pc) del compensador de adelanto\n",
    "zc = wc_nueva * math.sqrt(alpha)\n",
    "pc = wc_nueva / math.sqrt(alpha)\n",
    "\n",
    "# Creamos el compensador de adelanto (aún sin Kc)\n",
    "C_lead = ct.tf([1, zc], [1, pc])\n",
    "\n",
    "\n",
    "# --- 4. Diseño del Compensador de Atraso (Lag) ---\n",
    "# Esta parte mejora la precisión (reduce el error estacionario).\n",
    "\n",
    "# Colocamos el cero (za) una década por debajo de la nueva frecuencia de cruce\n",
    "# para minimizar su impacto en la fase.\n",
    "za = wc_nueva / 10\n",
    "\n",
    "# El polo (pa) se calcula con el factor de mejora del error (beta)\n",
    "pa = za / mejora_error\n",
    "\n",
    "# Creamos el compensador de atraso\n",
    "C_lag = ct.tf([1, za], [1, pa])\n",
    "\n",
    "\n",
    "# --- 5. Combinación y Cálculo de Kc ---\n",
    "\n",
    "# Combinamos ambos compensadores\n",
    "C_sin_Kc = C_lead * C_lag\n",
    "\n",
    "# Calculamos la ganancia Kc para que la magnitud total en wc_nueva sea 1 (0 dB)\n",
    "mag_total_sin_kc, _, _ = ct.bode(G * C_sin_Kc, [wc_nueva], plot=False)\n",
    "Kc = 1 / mag_total_sin_kc[0]\n",
    "\n",
    "\n",
    "# --- 6. Resultados Finales ---\n",
    "\n",
    "print(\"\\n--- Resultados del Diseño ---\")\n",
    "print(f\"Frecuencia de cruce objetivo: {wc_nueva:.2f} rad/s\")\n",
    "print(f\"Fase requerida: {phi_m:.2f}°\")\n",
    "\n",
    "print(\"\\nParámetros del Compensador Calculados:\")\n",
    "print(f\"Kc = {Kc:.4f}\")\n",
    "print(f\"zc (cero de adelanto) = {zc:.4f}\")\n",
    "print(f\"pc (polo de adelanto) = {pc:.4f}\")\n",
    "print(f\"za (cero de atraso) = {za:.4f}\")\n",
    "print(f\"pa (polo de atraso) = {pa:.4f}\")\n",
    "\n",
    "print(\"\\nCompensador Continuo Final C(s):\")\n",
    "print(C_s)\n"
   ]
  }
 ],
 "metadata": {
  "kernelspec": {
   "display_name": "Python 3",
   "language": "python",
   "name": "python3"
  },
  "language_info": {
   "codemirror_mode": {
    "name": "ipython",
    "version": 3
   },
   "file_extension": ".py",
   "mimetype": "text/x-python",
   "name": "python",
   "nbconvert_exporter": "python",
   "pygments_lexer": "ipython3",
   "version": "3.12.10"
  }
 },
 "nbformat": 4,
 "nbformat_minor": 5
}
